{
 "cells": [
  {
   "cell_type": "markdown",
   "id": "e1bc262f",
   "metadata": {},
   "source": [
    "First I imported the libraries"
   ]
  },
  {
   "cell_type": "code",
   "execution_count": 59,
   "id": "6ef11842",
   "metadata": {},
   "outputs": [],
   "source": [
    "#import libraries that i will use\n",
    "import pandas as pd\n",
    "import numpy as np"
   ]
  },
  {
   "cell_type": "markdown",
   "id": "1da1f4df",
   "metadata": {},
   "source": [
    "I loaded files"
   ]
  },
  {
   "cell_type": "code",
   "execution_count": 60,
   "id": "f8e5f553",
   "metadata": {},
   "outputs": [],
   "source": [
    "#here is the file load:\n",
    "file_path = \"daten.xlsx\"\n",
    "xls = pd.ExcelFile(file_path)\n"
   ]
  },
  {
   "cell_type": "markdown",
   "id": "1fee2c0a",
   "metadata": {},
   "source": [
    "### I saw the sheets "
   ]
  },
  {
   "cell_type": "code",
   "execution_count": 61,
   "id": "b184dac8",
   "metadata": {},
   "outputs": [
    {
     "name": "stdout",
     "output_type": "stream",
     "text": [
      "Available Sheets: ['bad_data', 'data']\n"
     ]
    }
   ],
   "source": [
    "# Print sheet names to inspect\n",
    "print(\"Available Sheets:\", xls.sheet_names)"
   ]
  },
  {
   "cell_type": "code",
   "execution_count": 62,
   "id": "3247d854",
   "metadata": {},
   "outputs": [],
   "source": [
    "# I loaded the data sheets skipping first some rows\n",
    "df = pd.read_excel(xls, sheet_name='data', skiprows=3)"
   ]
  },
  {
   "cell_type": "markdown",
   "id": "3e1958df",
   "metadata": {},
   "source": [
    "I printed dataframe of existed data"
   ]
  },
  {
   "cell_type": "code",
   "execution_count": 63,
   "id": "0e33e278",
   "metadata": {},
   "outputs": [
    {
     "name": "stdout",
     "output_type": "stream",
     "text": [
      "                    Datum  Input Strom [A]  Anlagetemperatur [°C]  \\\n",
      "0     2024-11-10 15:11:00              NaN                  63.24   \n",
      "1     2024-11-10 15:21:00              NaN                  63.24   \n",
      "2     2024-11-10 15:31:00              NaN                  63.24   \n",
      "3     2024-11-10 15:41:00              NaN                  63.24   \n",
      "4     2024-11-10 15:51:00              NaN                  63.24   \n",
      "...                   ...              ...                    ...   \n",
      "17766 2024-12-13 09:26:00              9.5                  65.72   \n",
      "17767 2024-12-13 09:31:00              9.5                  65.10   \n",
      "17768 2024-12-13 09:35:00              9.5                  65.10   \n",
      "17769 2024-12-13 09:36:00              9.1                  65.10   \n",
      "17770 2024-12-13 09:41:00              9.1                  65.10   \n",
      "\n",
      "       Dichte  [g/m³]  Rel. Feuchte [%]  \n",
      "0            0.000000               NaN  \n",
      "1            0.000000               NaN  \n",
      "2            0.000000               NaN  \n",
      "3            0.000000               NaN  \n",
      "4            0.000000               NaN  \n",
      "...               ...               ...  \n",
      "17766      178.970642             100.0  \n",
      "17767      179.558716             100.0  \n",
      "17768      179.558716             100.0  \n",
      "17769      179.558716             100.0  \n",
      "17770      176.849541             100.0  \n",
      "\n",
      "[17771 rows x 5 columns]\n"
     ]
    }
   ],
   "source": [
    "print(df)"
   ]
  },
  {
   "cell_type": "code",
   "execution_count": 64,
   "id": "867ce84e",
   "metadata": {},
   "outputs": [],
   "source": [
    "df = df.dropna(subset=['Datum'])"
   ]
  },
  {
   "cell_type": "code",
   "execution_count": 65,
   "id": "806e67a2",
   "metadata": {},
   "outputs": [],
   "source": [
    "df.set_index('Datum', inplace=True)"
   ]
  },
  {
   "cell_type": "markdown",
   "id": "7096656c",
   "metadata": {},
   "source": [
    "Created timestamps for every 10 minutes."
   ]
  },
  {
   "cell_type": "code",
   "execution_count": 66,
   "id": "16e0a3e1",
   "metadata": {},
   "outputs": [],
   "source": [
    "start = df.index.min().floor('10min') + pd.Timedelta(minutes=1)\n",
    "end = df.index.max().ceil('10min')\n",
    "target_times = pd.date_range(start=start, end=end, freq='10min')"
   ]
  },
  {
   "cell_type": "markdown",
   "id": "8bd3955b",
   "metadata": {},
   "source": [
    "printed targeted times"
   ]
  },
  {
   "cell_type": "code",
   "execution_count": 67,
   "id": "c7f67bf4",
   "metadata": {},
   "outputs": [
    {
     "name": "stdout",
     "output_type": "stream",
     "text": [
      "DatetimeIndex(['2024-11-10 15:11:00', '2024-11-10 15:21:00',\n",
      "               '2024-11-10 15:31:00', '2024-11-10 15:41:00',\n",
      "               '2024-11-10 15:51:00', '2024-11-10 16:01:00',\n",
      "               '2024-11-10 16:11:00', '2024-11-10 16:21:00',\n",
      "               '2024-11-10 16:31:00', '2024-11-10 16:41:00',\n",
      "               ...\n",
      "               '2024-12-13 08:11:00', '2024-12-13 08:21:00',\n",
      "               '2024-12-13 08:31:00', '2024-12-13 08:41:00',\n",
      "               '2024-12-13 08:51:00', '2024-12-13 09:01:00',\n",
      "               '2024-12-13 09:11:00', '2024-12-13 09:21:00',\n",
      "               '2024-12-13 09:31:00', '2024-12-13 09:41:00'],\n",
      "              dtype='datetime64[ns]', length=4720, freq='10min')\n"
     ]
    }
   ],
   "source": [
    "print(target_times)"
   ]
  },
  {
   "cell_type": "markdown",
   "id": "98f3ca4b",
   "metadata": {},
   "source": [
    "Check the closest interval"
   ]
  },
  {
   "cell_type": "code",
   "execution_count": 68,
   "id": "29a539e3",
   "metadata": {},
   "outputs": [],
   "source": [
    "def get_closest_data(ts):\n",
    "    interval_start = ts - pd.Timedelta(minutes=1)\n",
    "    interval_end = ts + pd.Timedelta(minutes=9)\n",
    "    mask = (df.index >= interval_start) & (df.index < interval_end)\n",
    "    if mask.any():\n",
    "        return df.loc[mask].iloc[[0]]  # Pick any one (first) if multiple exist\n",
    "    else:\n",
    "        return None"
   ]
  },
  {
   "cell_type": "markdown",
   "id": "21ca605f",
   "metadata": {},
   "source": [
    "Convert it to homogenised data"
   ]
  },
  {
   "cell_type": "code",
   "execution_count": 69,
   "id": "ae3e47ce",
   "metadata": {},
   "outputs": [],
   "source": [
    "homogenized_rows = []\n",
    "last_valid_row = None\n",
    "\n",
    "for ts in target_times:\n",
    "    row = get_closest_data(ts)\n",
    "    if row is not None:\n",
    "        homogenized_rows.append(row.set_index(pd.DatetimeIndex([ts])))\n",
    "        last_valid_row = row\n",
    "    elif last_valid_row is not None:\n",
    "        homogenized_rows.append(last_valid_row.set_index(pd.DatetimeIndex([ts])))"
   ]
  },
  {
   "cell_type": "code",
   "execution_count": 70,
   "id": "43f083af",
   "metadata": {},
   "outputs": [],
   "source": [
    "# Combine all rows into a single DataFrame\n",
    "homogenized_df = pd.concat(homogenized_rows)"
   ]
  },
  {
   "cell_type": "code",
   "execution_count": 71,
   "id": "1d10f391",
   "metadata": {},
   "outputs": [],
   "source": [
    "homogenized_df.reset_index(inplace=True)\n",
    "homogenized_df.rename(columns={'index': 'Datum'}, inplace=True)"
   ]
  },
  {
   "cell_type": "code",
   "execution_count": 72,
   "id": "4cdd4567",
   "metadata": {},
   "outputs": [
    {
     "name": "stdout",
     "output_type": "stream",
     "text": [
      "Final Homogenized Data:\n"
     ]
    },
    {
     "data": {
      "text/html": [
       "<div>\n",
       "<style scoped>\n",
       "    .dataframe tbody tr th:only-of-type {\n",
       "        vertical-align: middle;\n",
       "    }\n",
       "\n",
       "    .dataframe tbody tr th {\n",
       "        vertical-align: top;\n",
       "    }\n",
       "\n",
       "    .dataframe thead th {\n",
       "        text-align: right;\n",
       "    }\n",
       "</style>\n",
       "<table border=\"1\" class=\"dataframe\">\n",
       "  <thead>\n",
       "    <tr style=\"text-align: right;\">\n",
       "      <th></th>\n",
       "      <th>Datum</th>\n",
       "      <th>Input Strom [A]</th>\n",
       "      <th>Anlagetemperatur [°C]</th>\n",
       "      <th>Dichte  [g/m³]</th>\n",
       "      <th>Rel. Feuchte [%]</th>\n",
       "    </tr>\n",
       "  </thead>\n",
       "  <tbody>\n",
       "    <tr>\n",
       "      <th>0</th>\n",
       "      <td>2024-11-10 15:11:00</td>\n",
       "      <td>NaN</td>\n",
       "      <td>63.24</td>\n",
       "      <td>0.0</td>\n",
       "      <td>NaN</td>\n",
       "    </tr>\n",
       "    <tr>\n",
       "      <th>1</th>\n",
       "      <td>2024-11-10 15:21:00</td>\n",
       "      <td>NaN</td>\n",
       "      <td>63.24</td>\n",
       "      <td>0.0</td>\n",
       "      <td>NaN</td>\n",
       "    </tr>\n",
       "    <tr>\n",
       "      <th>2</th>\n",
       "      <td>2024-11-10 15:31:00</td>\n",
       "      <td>NaN</td>\n",
       "      <td>63.24</td>\n",
       "      <td>0.0</td>\n",
       "      <td>NaN</td>\n",
       "    </tr>\n",
       "    <tr>\n",
       "      <th>3</th>\n",
       "      <td>2024-11-10 15:41:00</td>\n",
       "      <td>NaN</td>\n",
       "      <td>63.24</td>\n",
       "      <td>0.0</td>\n",
       "      <td>NaN</td>\n",
       "    </tr>\n",
       "    <tr>\n",
       "      <th>4</th>\n",
       "      <td>2024-11-10 15:51:00</td>\n",
       "      <td>NaN</td>\n",
       "      <td>63.24</td>\n",
       "      <td>0.0</td>\n",
       "      <td>NaN</td>\n",
       "    </tr>\n",
       "    <tr>\n",
       "      <th>5</th>\n",
       "      <td>2024-11-10 16:01:00</td>\n",
       "      <td>NaN</td>\n",
       "      <td>63.24</td>\n",
       "      <td>0.0</td>\n",
       "      <td>NaN</td>\n",
       "    </tr>\n",
       "    <tr>\n",
       "      <th>6</th>\n",
       "      <td>2024-11-10 16:11:00</td>\n",
       "      <td>NaN</td>\n",
       "      <td>63.24</td>\n",
       "      <td>0.0</td>\n",
       "      <td>NaN</td>\n",
       "    </tr>\n",
       "    <tr>\n",
       "      <th>7</th>\n",
       "      <td>2024-11-10 16:21:00</td>\n",
       "      <td>NaN</td>\n",
       "      <td>63.24</td>\n",
       "      <td>0.0</td>\n",
       "      <td>NaN</td>\n",
       "    </tr>\n",
       "    <tr>\n",
       "      <th>8</th>\n",
       "      <td>2024-11-10 16:31:00</td>\n",
       "      <td>NaN</td>\n",
       "      <td>63.24</td>\n",
       "      <td>0.0</td>\n",
       "      <td>NaN</td>\n",
       "    </tr>\n",
       "    <tr>\n",
       "      <th>9</th>\n",
       "      <td>2024-11-10 16:41:00</td>\n",
       "      <td>NaN</td>\n",
       "      <td>63.24</td>\n",
       "      <td>0.0</td>\n",
       "      <td>NaN</td>\n",
       "    </tr>\n",
       "    <tr>\n",
       "      <th>10</th>\n",
       "      <td>2024-11-10 16:51:00</td>\n",
       "      <td>NaN</td>\n",
       "      <td>63.24</td>\n",
       "      <td>0.0</td>\n",
       "      <td>NaN</td>\n",
       "    </tr>\n",
       "    <tr>\n",
       "      <th>11</th>\n",
       "      <td>2024-11-10 17:01:00</td>\n",
       "      <td>NaN</td>\n",
       "      <td>63.24</td>\n",
       "      <td>0.0</td>\n",
       "      <td>NaN</td>\n",
       "    </tr>\n",
       "    <tr>\n",
       "      <th>12</th>\n",
       "      <td>2024-11-10 17:11:00</td>\n",
       "      <td>NaN</td>\n",
       "      <td>62.93</td>\n",
       "      <td>0.0</td>\n",
       "      <td>NaN</td>\n",
       "    </tr>\n",
       "    <tr>\n",
       "      <th>13</th>\n",
       "      <td>2024-11-10 17:21:00</td>\n",
       "      <td>NaN</td>\n",
       "      <td>62.93</td>\n",
       "      <td>0.0</td>\n",
       "      <td>NaN</td>\n",
       "    </tr>\n",
       "    <tr>\n",
       "      <th>14</th>\n",
       "      <td>2024-11-10 17:31:00</td>\n",
       "      <td>NaN</td>\n",
       "      <td>62.93</td>\n",
       "      <td>0.0</td>\n",
       "      <td>NaN</td>\n",
       "    </tr>\n",
       "    <tr>\n",
       "      <th>15</th>\n",
       "      <td>2024-11-10 17:41:00</td>\n",
       "      <td>NaN</td>\n",
       "      <td>62.93</td>\n",
       "      <td>0.0</td>\n",
       "      <td>NaN</td>\n",
       "    </tr>\n",
       "    <tr>\n",
       "      <th>16</th>\n",
       "      <td>2024-11-10 17:51:00</td>\n",
       "      <td>NaN</td>\n",
       "      <td>62.93</td>\n",
       "      <td>0.0</td>\n",
       "      <td>NaN</td>\n",
       "    </tr>\n",
       "    <tr>\n",
       "      <th>17</th>\n",
       "      <td>2024-11-10 18:01:00</td>\n",
       "      <td>NaN</td>\n",
       "      <td>62.93</td>\n",
       "      <td>0.0</td>\n",
       "      <td>NaN</td>\n",
       "    </tr>\n",
       "    <tr>\n",
       "      <th>18</th>\n",
       "      <td>2024-11-10 18:11:00</td>\n",
       "      <td>NaN</td>\n",
       "      <td>62.93</td>\n",
       "      <td>0.0</td>\n",
       "      <td>NaN</td>\n",
       "    </tr>\n",
       "    <tr>\n",
       "      <th>19</th>\n",
       "      <td>2024-11-10 18:21:00</td>\n",
       "      <td>NaN</td>\n",
       "      <td>63.24</td>\n",
       "      <td>0.0</td>\n",
       "      <td>NaN</td>\n",
       "    </tr>\n",
       "  </tbody>\n",
       "</table>\n",
       "</div>"
      ],
      "text/plain": [
       "                 Datum  Input Strom [A]  Anlagetemperatur [°C]  \\\n",
       "0  2024-11-10 15:11:00              NaN                  63.24   \n",
       "1  2024-11-10 15:21:00              NaN                  63.24   \n",
       "2  2024-11-10 15:31:00              NaN                  63.24   \n",
       "3  2024-11-10 15:41:00              NaN                  63.24   \n",
       "4  2024-11-10 15:51:00              NaN                  63.24   \n",
       "5  2024-11-10 16:01:00              NaN                  63.24   \n",
       "6  2024-11-10 16:11:00              NaN                  63.24   \n",
       "7  2024-11-10 16:21:00              NaN                  63.24   \n",
       "8  2024-11-10 16:31:00              NaN                  63.24   \n",
       "9  2024-11-10 16:41:00              NaN                  63.24   \n",
       "10 2024-11-10 16:51:00              NaN                  63.24   \n",
       "11 2024-11-10 17:01:00              NaN                  63.24   \n",
       "12 2024-11-10 17:11:00              NaN                  62.93   \n",
       "13 2024-11-10 17:21:00              NaN                  62.93   \n",
       "14 2024-11-10 17:31:00              NaN                  62.93   \n",
       "15 2024-11-10 17:41:00              NaN                  62.93   \n",
       "16 2024-11-10 17:51:00              NaN                  62.93   \n",
       "17 2024-11-10 18:01:00              NaN                  62.93   \n",
       "18 2024-11-10 18:11:00              NaN                  62.93   \n",
       "19 2024-11-10 18:21:00              NaN                  63.24   \n",
       "\n",
       "    Dichte  [g/m³]  Rel. Feuchte [%]  \n",
       "0              0.0               NaN  \n",
       "1              0.0               NaN  \n",
       "2              0.0               NaN  \n",
       "3              0.0               NaN  \n",
       "4              0.0               NaN  \n",
       "5              0.0               NaN  \n",
       "6              0.0               NaN  \n",
       "7              0.0               NaN  \n",
       "8              0.0               NaN  \n",
       "9              0.0               NaN  \n",
       "10             0.0               NaN  \n",
       "11             0.0               NaN  \n",
       "12             0.0               NaN  \n",
       "13             0.0               NaN  \n",
       "14             0.0               NaN  \n",
       "15             0.0               NaN  \n",
       "16             0.0               NaN  \n",
       "17             0.0               NaN  \n",
       "18             0.0               NaN  \n",
       "19             0.0               NaN  "
      ]
     },
     "metadata": {},
     "output_type": "display_data"
    }
   ],
   "source": [
    "print(\"Final Homogenized Data:\")\n",
    "display(homogenized_df.head(20))"
   ]
  },
  {
   "cell_type": "markdown",
   "id": "121e0c79",
   "metadata": {},
   "source": [
    "Output dataframe to excel file"
   ]
  },
  {
   "cell_type": "code",
   "execution_count": 73,
   "id": "6b744c1c",
   "metadata": {},
   "outputs": [],
   "source": [
    "# Save homogenized DataFrame to Excel\n",
    "output_path = \"homogene_daten.xlsx\"\n",
    "homogenized_df.to_excel(output_path, index=False)\n"
   ]
  },
  {
   "cell_type": "code",
   "execution_count": null,
   "id": "406808da",
   "metadata": {},
   "outputs": [],
   "source": []
  }
 ],
 "metadata": {
  "kernelspec": {
   "display_name": "Python 3",
   "language": "python",
   "name": "python3"
  },
  "language_info": {
   "codemirror_mode": {
    "name": "ipython",
    "version": 3
   },
   "file_extension": ".py",
   "mimetype": "text/x-python",
   "name": "python",
   "nbconvert_exporter": "python",
   "pygments_lexer": "ipython3",
   "version": "3.12.4"
  }
 },
 "nbformat": 4,
 "nbformat_minor": 5
}
